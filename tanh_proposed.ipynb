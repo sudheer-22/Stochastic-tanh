{
  "nbformat": 4,
  "nbformat_minor": 0,
  "metadata": {
    "accelerator": "GPU",
    "colab": {
      "name": "Untitled15.ipynb",
      "provenance": [],
      "collapsed_sections": []
    },
    "kernelspec": {
      "display_name": "Python 3",
      "name": "python3"
    }
  },
  "cells": [
    {
      "cell_type": "code",
      "metadata": {
        "colab": {
          "base_uri": "https://localhost:8080/"
        },
        "id": "OZC4Fi_g6faw",
        "outputId": "e824f3d1-b63b-46cd-c51f-698ad892a8a1"
      },
      "source": [
        "import numpy as np\n",
        "import tensorflow as tf\n",
        "import matplotlib.pyplot as plt\n",
        "#temp = np.linspace(-2147483647,2147483647,2147483647*2+1)\n",
        "#x = temp/2147483647\n",
        "#range of x values used for plotting\n",
        "temp = np.linspace(-32767,32767,32767*2+1)\n",
        "x = temp/32767\n",
        "N=18 #no of states\n",
        "#x = np.linspace(-1,1, 65535)\n",
        "#tanh using standard FSM\n",
        "def function(u,N):\n",
        "  num=0\n",
        "  den=0\n",
        "  #N=16\n",
        "\n",
        "  f = (u+1)/2\n",
        "  for i in range(int(N/2),N):\n",
        "    num += ((f**(i+1))*((1-f)**(-1*i)))\n",
        "  for i in range(N):\n",
        "    den += ((f**(i+1))*((1-f)**(-1*i)))\n",
        "  out = (num/den)\n",
        "  out = 2*out-1\n",
        "  return out\n",
        "#converting outputs to required data type\n",
        "yn = np.array(function(x, N)*2147483647, dtype='int32')\n",
        "y=np.array(yn/2147483647)\n",
        "#print(yn[32767*2-1])\n",
        "k = np.tanh((N/2)*x) # reference tanh generated using numpy\n",
        "#k = 1/(1 + np.exp(-12*x)) \n",
        "#print(np.max((y1-yn)[1:len(y)-2]))\n",
        "#print(y, k)\n",
        "d = k-y #difference for standard method\n",
        "#calculating m value\n",
        "m1 = np.sum(d[1:32767])/32767\n",
        "#converting m to required data type\n",
        "n_bits = 32\n",
        "f = (1 << n_bits)\n",
        "m = np.round(m1*f)*(1.0/f)\n",
        "print(\"m1\",m1)\n",
        "print(\"m\", m)\n",
        "#loss for standard function\n",
        "loss_S = np.sum(np.square(d[1:65533]))/65533\n",
        "print('loss_S',loss_S)\n",
        "#plt.plot(x,y1-y)\n",
        "y1 = np.zeros(65535,)\n",
        "#calculating proposed function\n",
        "for i in range(0,32767):\n",
        "    y1[i] = y[i]+m\n",
        "for i in range(32767,65534):\n",
        "    y1[i] = y[i]-m\n",
        "#difference for proposed function\n",
        "d1 = k-y1\n",
        "#loss for proposed function\n",
        "loss_P = np.sum(np.square(d1[1:65533]))/65533\n",
        "print('loss_P',loss_P)\n",
        "print(loss_S/loss_P)#relative error\n",
        "#plt.plot(x[0:65533], d6[0:65533], linewidth=3.0)\n",
        "#plt.plot(x[0:65533], d1[0:65533], linewidth=3.0)\n",
        "#print(d.shape)\n",
        "#plt.ylabel(\"D\", weight = 'bold')\n",
        "#plt.xlabel(\"x\", weight='bold')\n",
        "#plt.title(\"N = 16\", weight = 'bold')\n",
        "#plt.legend([\"N = 6\", \"N = 16\"])\n",
        "#plt.plot(x, y) "
      ],
      "execution_count": null,
      "outputs": [
        {
          "output_type": "stream",
          "name": "stderr",
          "text": [
            "/usr/local/lib/python3.7/dist-packages/ipykernel_launcher.py:19: RuntimeWarning: divide by zero encountered in power\n",
            "/usr/local/lib/python3.7/dist-packages/ipykernel_launcher.py:21: RuntimeWarning: divide by zero encountered in reciprocal\n",
            "/usr/local/lib/python3.7/dist-packages/ipykernel_launcher.py:21: RuntimeWarning: divide by zero encountered in power\n"
          ]
        },
        {
          "output_type": "stream",
          "name": "stdout",
          "text": [
            "m1 0.000602688560447767\n",
            "m 0.0006026886403560638\n",
            "loss_S 1.071764086614413e-06\n",
            "loss_P 7.08513957260991e-07\n",
            "1.5126929760956194\n"
          ]
        },
        {
          "output_type": "stream",
          "name": "stderr",
          "text": [
            "/usr/local/lib/python3.7/dist-packages/ipykernel_launcher.py:22: RuntimeWarning: invalid value encountered in true_divide\n"
          ]
        }
      ]
    },
    {
      "cell_type": "code",
      "metadata": {
        "id": "jGebCSnP3hX9"
      },
      "source": [
        "#signed 32-bit\n",
        "m=[0.01302125002257526,0.006193994544446468,0.0033286907710134983,0.0019735435489565134,0.0012607329990714788,0.0008525452576577663,0.0006026886403560638]\n",
        "loss_S=[0.00023093403068153386,5.835002024272694e-05,1.9621471479623678e-05,7.995992102857136e-06,3.730767990981998e-,1.9240779601989655e-06,1.071764086614413e-06]\n",
        "loss_P=[6.137528431557322e-05,1.9982823162848715e-05,8.540790794542162e-06,4.100940186737921e-06,2.141247583121918e-06,1.197211101490511e-06,7.08513957260991e-07]\n",
        "ratio = [3.7626551674146334,2.9200088379508364,2.2973834568295977,1.949794861362638,1.742333777928928,1.6071334101425518,1.5126929760956194]"
      ],
      "execution_count": null,
      "outputs": []
    },
    {
      "cell_type": "code",
      "metadata": {
        "id": "odM6NBACja1I"
      },
      "source": [
        "#signed 8-bit\n",
        "m = [0.0078125,0.0,-0.00390625,-0.00390625,-0.00390625,-0.00390625,-0.00390625]\n",
        "loss_S = [0.0001471213673830796,3.497342867945375e-05,2.6415886658965935e-05,2.975675335569174e-05,3.427253224741591e-05,3.816785954937282e-05,3.980097909220843e-05]\n",
        "loss_P = [7.77017353752994e-05,3.497342867945375e-05,2.3724873071208024e-05,1.4696785223766791e-05,1.2605996381748964e-05,1.1855537959624402e-05,1.2180050479167696e-05]\n",
        "ration = [1.8934116036467317,1.0,1.1134258370816603,1.1134258370816603,2.024711724545776,2.7187483804958004,3.2194118629925104,3.2677187307460294]"
      ],
      "execution_count": null,
      "outputs": []
    },
    {
      "cell_type": "code",
      "metadata": {
        "id": "QN7dp9caRrM6"
      },
      "source": [
        "#signed 16-bit\n",
        "m = [0.01300048828125, 0.0061798095703125, 0.0033111572265625,0.001953125,0.0012359619140625,0.0008392333984375,0.000579833984375]\n",
        "loss_S = [0.00023053270405886417, 5.815830036297583e-05, 1.9519142941672612e-05,7.936109546939265e-06,3.6926176683473277e-06,1.8983393660014014e-06,1.0538650250985297e-06]\n",
        "loss_P = [6.138596556400718e-05, 1.9996412864911648e-05, 8.554584619373582e-06,4.113244854997649e-06,2.151221685129952e-06,1.2049702546203786e-06,7.146346930808128e-07]\n",
        "ratio = [3.755462701299169, 2.908436665909618, 2.2817172089767603,1.9294036282077356,1.716521218557846,1.5754242552646798,1.4746905451165324] "
      ],
      "execution_count": null,
      "outputs": []
    }
  ]
}
